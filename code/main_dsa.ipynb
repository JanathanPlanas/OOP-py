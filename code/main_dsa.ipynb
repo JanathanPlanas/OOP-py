{
 "cells": [
  {
   "cell_type": "code",
   "execution_count": 16,
   "metadata": {},
   "outputs": [],
   "source": [
    "class Livro():\n",
    "\n",
    "    # self é uma referencia a cada atributo da propria classe\n",
    "    def __init__(self):\n",
    "\n",
    "        self.titulo = 'sapiens- uma breve história'\n",
    "        self.isbn = 99989898\n",
    "        print(\"Construtor chamado para criar um objeto\")\n",
    "\n",
    "    \n",
    "    def imprime(self):\n",
    "        print(\"Foi criado o livro %s com ISBN %d \"%(self.titulo, self.isbn))"
   ]
  },
  {
   "cell_type": "code",
   "execution_count": 17,
   "metadata": {},
   "outputs": [
    {
     "name": "stdout",
     "output_type": "stream",
     "text": [
      "Construtor chamado para criar um objeto\n"
     ]
    }
   ],
   "source": [
    "livro1 = Livro()"
   ]
  },
  {
   "cell_type": "code",
   "execution_count": 18,
   "metadata": {},
   "outputs": [
    {
     "name": "stdout",
     "output_type": "stream",
     "text": [
      "Foi criado o livro sapiens- uma breve história com ISBN 99989898 \n"
     ]
    }
   ],
   "source": [
    "livro1.imprime()"
   ]
  },
  {
   "cell_type": "code",
   "execution_count": 36,
   "metadata": {},
   "outputs": [],
   "source": [
    "class Livro():\n",
    "\n",
    "    # self é uma referencia a cada atributo da propria classe\n",
    "    def __init__(self, titulo, isbn, ano,autor):\n",
    "\n",
    "        self.titulo = titulo\n",
    "        self.isbn = isbn\n",
    "        self.ano = ano\n",
    "        self.autor = autor\n",
    "        print(\"Construtor chamado para criar um objeto\")\n",
    "\n",
    "    \n",
    "    def imprime(self):\n",
    "        print(\"Foi criado o livro %s com ISBN %d, lançado no ano de %d pelo autor %s\"%(self.titulo, self.isbn, self.ano, self.autor))"
   ]
  },
  {
   "cell_type": "code",
   "execution_count": 39,
   "metadata": {},
   "outputs": [
    {
     "name": "stdout",
     "output_type": "stream",
     "text": [
      "Construtor chamado para criar um objeto\n"
     ]
    }
   ],
   "source": [
    "livro2 = Livro(titulo = \"O poder do habito0 \", isbn = 6549841981, autor= 'Jorgim', ano = 2019)"
   ]
  },
  {
   "cell_type": "code",
   "execution_count": 42,
   "metadata": {},
   "outputs": [
    {
     "data": {
      "text/plain": [
       "2019"
      ]
     },
     "execution_count": 42,
     "metadata": {},
     "output_type": "execute_result"
    }
   ],
   "source": [
    "livro2.ano"
   ]
  },
  {
   "cell_type": "code",
   "execution_count": 48,
   "metadata": {},
   "outputs": [
    {
     "name": "stdout",
     "output_type": "stream",
     "text": [
      "True\n",
      "True\n",
      "None\n",
      "Gustavo olavo bilaq\n",
      "None\n",
      "False\n"
     ]
    }
   ],
   "source": [
    "print(hasattr(livro2,\"ano\"))\n",
    "print(hasattr(livro2,\"autor\"))\n",
    "print(setattr(livro2,\"autor\",\"Gustavo olavo bilaq\"))\n",
    "print(getattr(livro2,\"autor\"))\n",
    "print(delattr(livro2,\"isbn\"))\n",
    "print(hasattr(livro2,\"isbn\"))"
   ]
  },
  {
   "cell_type": "code",
   "execution_count": 46,
   "metadata": {},
   "outputs": [
    {
     "data": {
      "text/plain": [
       "'Gustavo olavo bilaq'"
      ]
     },
     "execution_count": 46,
     "metadata": {},
     "output_type": "execute_result"
    }
   ],
   "source": [
    "livro2.autor"
   ]
  },
  {
   "cell_type": "code",
   "execution_count": 2,
   "metadata": {},
   "outputs": [
    {
     "data": {
      "text/plain": [
       "9"
      ]
     },
     "execution_count": 2,
     "metadata": {},
     "output_type": "execute_result"
    }
   ],
   "source": [
    "a = str(123546789)\n",
    "\n",
    "len(a)"
   ]
  },
  {
   "cell_type": "code",
   "execution_count": null,
   "metadata": {},
   "outputs": [],
   "source": []
  }
 ],
 "metadata": {
  "kernelspec": {
   "display_name": "venv",
   "language": "python",
   "name": "python3"
  },
  "language_info": {
   "codemirror_mode": {
    "name": "ipython",
    "version": 3
   },
   "file_extension": ".py",
   "mimetype": "text/x-python",
   "name": "python",
   "nbconvert_exporter": "python",
   "pygments_lexer": "ipython3",
   "version": "3.11.3"
  },
  "orig_nbformat": 4
 },
 "nbformat": 4,
 "nbformat_minor": 2
}
