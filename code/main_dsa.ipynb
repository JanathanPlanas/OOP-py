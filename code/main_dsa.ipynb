{
 "cells": [
  {
   "cell_type": "code",
   "execution_count": 12,
   "metadata": {},
   "outputs": [],
   "source": [
    "class Livro():\n",
    "\n",
    "    # self é uma referencia a cada atributo da propria classe\n",
    "    def __init__(self):\n",
    "\n",
    "        self.titulo = 'sapiens- uma breve história'\n",
    "        self.isbn = 10\n",
    "        self.ano = 1988\n",
    "        print(\"Construtor chamado para criar um objeto\")\n",
    "\n",
    "    \n",
    "    def imprime(self):\n",
    "        self.soma = self.ano + self.isbn\n",
    "        print(\"Foi criado o livro %s com ISBN %d \"%(self.titulo, self.isbn))"
   ]
  },
  {
   "cell_type": "code",
   "execution_count": 21,
   "metadata": {},
   "outputs": [
    {
     "name": "stdout",
     "output_type": "stream",
     "text": [
      "Construtor chamado para criar um objeto\n",
      "Foi criado o livro sapiens- uma breve história com ISBN 10 \n"
     ]
    },
    {
     "ename": "AttributeError",
     "evalue": "'NoneType' object has no attribute 'soma'",
     "output_type": "error",
     "traceback": [
      "\u001b[1;31m---------------------------------------------------------------------------\u001b[0m",
      "\u001b[1;31mAttributeError\u001b[0m                            Traceback (most recent call last)",
      "Cell \u001b[1;32mIn[21], line 1\u001b[0m\n\u001b[1;32m----> 1\u001b[0m livro1 \u001b[39m=\u001b[39m (Livro()\u001b[39m.\u001b[39;49mimprime())\u001b[39m.\u001b[39;49msoma\n",
      "\u001b[1;31mAttributeError\u001b[0m: 'NoneType' object has no attribute 'soma'"
     ]
    }
   ],
   "source": [
    "livro1 = Livro().imprime()"
   ]
  },
  {
   "cell_type": "code",
   "execution_count": 19,
   "metadata": {},
   "outputs": [
    {
     "name": "stdout",
     "output_type": "stream",
     "text": [
      "Foi criado o livro sapiens- uma breve história com ISBN 10 \n"
     ]
    }
   ],
   "source": [
    "livro1.imprime()"
   ]
  },
  {
   "cell_type": "code",
   "execution_count": 18,
   "metadata": {},
   "outputs": [
    {
     "data": {
      "text/plain": [
       "1998"
      ]
     },
     "execution_count": 18,
     "metadata": {},
     "output_type": "execute_result"
    }
   ],
   "source": [
    "livro1.soma"
   ]
  },
  {
   "cell_type": "code",
   "execution_count": 36,
   "metadata": {},
   "outputs": [],
   "source": [
    "class Livro():\n",
    "\n",
    "    # self é uma referencia a cada atributo da propria classe\n",
    "    def __init__(self, titulo, isbn, ano,autor):\n",
    "\n",
    "        self.titulo = titulo\n",
    "        self.isbn = isbn\n",
    "        self.ano = ano\n",
    "        self.autor = autor\n",
    "        print(\"Construtor chamado para criar um objeto\")\n",
    "\n",
    "    \n",
    "    def imprime(self):\n",
    "        print(\"Foi criado o livro %s com ISBN %d, lançado no ano de %d pelo autor %s\"%(self.titulo, self.isbn, self.ano, self.autor))"
   ]
  },
  {
   "cell_type": "code",
   "execution_count": 39,
   "metadata": {},
   "outputs": [
    {
     "name": "stdout",
     "output_type": "stream",
     "text": [
      "Construtor chamado para criar um objeto\n"
     ]
    }
   ],
   "source": [
    "livro2 = Livro(titulo = \"O poder do habito0 \", isbn = 6549841981, autor= 'Jorgim', ano = 2019)"
   ]
  },
  {
   "cell_type": "code",
   "execution_count": 42,
   "metadata": {},
   "outputs": [
    {
     "data": {
      "text/plain": [
       "2019"
      ]
     },
     "execution_count": 42,
     "metadata": {},
     "output_type": "execute_result"
    }
   ],
   "source": [
    "livro2.ano"
   ]
  },
  {
   "cell_type": "code",
   "execution_count": 48,
   "metadata": {},
   "outputs": [
    {
     "name": "stdout",
     "output_type": "stream",
     "text": [
      "True\n",
      "True\n",
      "None\n",
      "Gustavo olavo bilaq\n",
      "None\n",
      "False\n"
     ]
    }
   ],
   "source": [
    "print(hasattr(livro2,\"ano\"))\n",
    "print(hasattr(livro2,\"autor\"))\n",
    "print(setattr(livro2,\"autor\",\"Gustavo olavo bilaq\"))\n",
    "print(getattr(livro2,\"autor\"))\n",
    "print(delattr(livro2,\"isbn\"))\n",
    "print(hasattr(livro2,\"isbn\"))"
   ]
  },
  {
   "cell_type": "code",
   "execution_count": 46,
   "metadata": {},
   "outputs": [
    {
     "data": {
      "text/plain": [
       "'Gustavo olavo bilaq'"
      ]
     },
     "execution_count": 46,
     "metadata": {},
     "output_type": "execute_result"
    }
   ],
   "source": [
    "livro2.autor"
   ]
  },
  {
   "cell_type": "code",
   "execution_count": 2,
   "metadata": {},
   "outputs": [
    {
     "data": {
      "text/plain": [
       "9"
      ]
     },
     "execution_count": 2,
     "metadata": {},
     "output_type": "execute_result"
    }
   ],
   "source": [
    "a = str(123546789)\n",
    "\n",
    "len(a)"
   ]
  },
  {
   "cell_type": "code",
   "execution_count": 2,
   "metadata": {},
   "outputs": [
    {
     "data": {
      "text/plain": [
       "{'name': 'Johns', 'email': 'N/A', 'phone': 'mobile'}"
      ]
     },
     "execution_count": 2,
     "metadata": {},
     "output_type": "execute_result"
    }
   ],
   "source": [
    "profile = {\n",
    "    'name' :'N/A',\n",
    "    'email':'N/A',\n",
    "    'phone':'N/A'\n",
    "}\n",
    "\n",
    "user_input = {\n",
    "\n",
    "    'name' : 'Johns',\n",
    "    'phone' : 'mobile',\n",
    "\n",
    "}\n",
    "\n",
    "profile |= user_input\n",
    "\n",
    "profile\n",
    "    "
   ]
  }
 ],
 "metadata": {
  "kernelspec": {
   "display_name": "venv",
   "language": "python",
   "name": "python3"
  },
  "language_info": {
   "codemirror_mode": {
    "name": "ipython",
    "version": 3
   },
   "file_extension": ".py",
   "mimetype": "text/x-python",
   "name": "python",
   "nbconvert_exporter": "python",
   "pygments_lexer": "ipython3",
   "version": "3.11.3"
  },
  "orig_nbformat": 4
 },
 "nbformat": 4,
 "nbformat_minor": 2
}
